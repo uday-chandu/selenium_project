{
 "cells": [
  {
   "cell_type": "code",
   "execution_count": 1,
   "id": "c47c4a4d",
   "metadata": {},
   "outputs": [],
   "source": [
    "import flask\n",
    "from flask import Flask,request,jsonify\n",
    "from flask_cors import CORS\n",
    "from selenium_testing_websites import pixabay_website"
   ]
  },
  {
   "cell_type": "code",
   "execution_count": 2,
   "id": "986d27e6",
   "metadata": {},
   "outputs": [],
   "source": [
    "app = Flask(__name__)\n",
    "CORS(app)\n",
    "@app.route('/')\n",
    "def home():\n",
    "    return \"<center>User you're at home page \\n please goto /pixabay/searchkey,number and give the name of animal or flower name to download. \\n followed by number of images to get downloaded seaparated by comma!\"\n",
    "@app.route('/pixabay/<searchkey>,<number>', methods = ['GET', 'POST'])\n",
    "def img(searchkey,number):\n",
    "    if request.method == 'GET':\n",
    "        obj = pixabay_website(searchkey,number)\n",
    "        obj.img_download()\n",
    "    return jsonify({'number_of_images_downloaded_is':number,'searchkey_is':searchkey},'check the folder')"
   ]
  },
  {
   "cell_type": "code",
   "execution_count": 3,
   "id": "806a6cae",
   "metadata": {
    "scrolled": true
   },
   "outputs": [
    {
     "name": "stdout",
     "output_type": "stream",
     "text": [
      " * Serving Flask app \"__main__\" (lazy loading)\n",
      " * Environment: production\n",
      "   WARNING: This is a development server. Do not use it in a production deployment.\n",
      "   Use a production WSGI server instead.\n",
      " * Debug mode: off\n"
     ]
    },
    {
     "name": "stderr",
     "output_type": "stream",
     "text": [
      " * Running on http://127.0.0.1:5000/ (Press CTRL+C to quit)\n",
      "127.0.0.1 - - [20/Sep/2021 12:19:28] \"\u001b[37mGET / HTTP/1.1\u001b[0m\" 200 -\n",
      "\n",
      "\n",
      "====== WebDriver manager ======\n",
      "Current google-chrome version is 93.0.4577\n",
      "Get LATEST driver version for 93.0.4577\n",
      "Driver [C:\\Users\\udaychan\\.wdm\\drivers\\chromedriver\\win32\\93.0.4577.63\\chromedriver.exe] found in cache\n"
     ]
    },
    {
     "name": "stdout",
     "output_type": "stream",
     "text": [
      "folder is present\n",
      " folder exists, so the download images are gonna stored\n",
      "images got downloaded, check the folder\n"
     ]
    },
    {
     "name": "stderr",
     "output_type": "stream",
     "text": [
      "127.0.0.1 - - [20/Sep/2021 12:22:58] \"\u001b[37mGET /pixabay/machine%20learning,5 HTTP/1.1\u001b[0m\" 200 -\n"
     ]
    }
   ],
   "source": [
    "if __name__==\"__main__\":\n",
    "    app.run(debug=False)"
   ]
  },
  {
   "cell_type": "code",
   "execution_count": null,
   "id": "597b2e85",
   "metadata": {},
   "outputs": [],
   "source": []
  }
 ],
 "metadata": {
  "kernelspec": {
   "display_name": "Python 3",
   "language": "python",
   "name": "python3"
  },
  "language_info": {
   "codemirror_mode": {
    "name": "ipython",
    "version": 3
   },
   "file_extension": ".py",
   "mimetype": "text/x-python",
   "name": "python",
   "nbconvert_exporter": "python",
   "pygments_lexer": "ipython3",
   "version": "3.8.8"
  }
 },
 "nbformat": 4,
 "nbformat_minor": 5
}
